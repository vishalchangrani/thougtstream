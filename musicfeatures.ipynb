{
 "cells": [
  {
   "cell_type": "code",
   "execution_count": 39,
   "metadata": {
    "collapsed": true
   },
   "outputs": [],
   "source": [
    "from __future__ import print_function\n",
    "from pathlib import Path"
   ]
  },
  {
   "cell_type": "code",
   "execution_count": 40,
   "metadata": {
    "collapsed": true
   },
   "outputs": [],
   "source": [
    "# We'll need numpy for some mathematical operations\n",
    "import numpy as np\n",
    "\n",
    "\n",
    "# matplotlib for displaying the output\n",
    "import matplotlib.pyplot as plt\n",
    "import matplotlib.style as ms\n",
    "ms.use('seaborn-muted')\n",
    "%matplotlib inline\n",
    "\n",
    "\n",
    "# and IPython.display for audio output\n",
    "import IPython.display\n",
    "\n",
    "\n",
    "# Librosa for audio\n",
    "import librosa\n",
    "# And the display module for visualization\n",
    "import librosa.display"
   ]
  },
  {
   "cell_type": "code",
   "execution_count": 41,
   "metadata": {
    "collapsed": true
   },
   "outputs": [],
   "source": [
    "# Imports\n",
    "# pandas\n",
    "import pandas as pd\n",
    "from pandas import Series,DataFrame\n",
    "# numpy, matplotlib, seaborn\n",
    "import numpy as np\n",
    "import matplotlib.pyplot as plt\n",
    "from datetime import datetime\n",
    "%matplotlib inline"
   ]
  },
  {
   "cell_type": "code",
   "execution_count": 42,
   "metadata": {
    "collapsed": true
   },
   "outputs": [],
   "source": [
    "mp3dir = 'piano_first_thirty_sec'"
   ]
  },
  {
   "cell_type": "code",
   "execution_count": 43,
   "metadata": {
    "collapsed": true
   },
   "outputs": [],
   "source": [
    "#colnames = ['composer','description', 'symphony', 'file', 'part', 'tempo', 'bpm']\n",
    "musicdf = pd.read_csv('./musicdf.csv', index_col=0, encoding='latin-1')"
   ]
  },
  {
   "cell_type": "code",
   "execution_count": 44,
   "metadata": {
    "collapsed": true
   },
   "outputs": [],
   "source": [
    "def load(audio_path):\n",
    "    audio_path = '.\\\\'+ mp3dir + '\\\\' + audio_path\n",
    "    my_file = Path(audio_path)\n",
    "    if my_file.is_file():\n",
    "        return librosa.load(audio_path, sr=None)\n",
    "    else:\n",
    "        return None, None"
   ]
  },
  {
   "cell_type": "code",
   "execution_count": 46,
   "metadata": {
    "collapsed": true
   },
   "outputs": [],
   "source": [
    "def getbpm(audio_path):\n",
    "    y, sr = load(audio_path)\n",
    "    onset_env = librosa.onset.onset_strength(y, sr=sr)\n",
    "    return librosa.beat.tempo(onset_envelope=onset_env, sr=sr)[0]"
   ]
  },
  {
   "cell_type": "code",
   "execution_count": 47,
   "metadata": {
    "collapsed": true
   },
   "outputs": [],
   "source": [
    "def getDuration(audio_path):\n",
    "    y, sr = load(audio_path)\n",
    "    return librosa.core.get_duration(y,sr)"
   ]
  },
  {
   "cell_type": "code",
   "execution_count": 48,
   "metadata": {
    "collapsed": true
   },
   "outputs": [],
   "source": [
    "def getZeroCrossings(audio_path):\n",
    "    y, sr = load(audio_path)\n",
    "    return sum(librosa.zero_crossings(y, pad=False, threshold=0.001))"
   ]
  },
  {
   "cell_type": "code",
   "execution_count": 49,
   "metadata": {
    "collapsed": true
   },
   "outputs": [],
   "source": [
    "## http://musicinformationretrieval.com/spectral_features.html\n",
    "## http://cs229.stanford.edu/proj2016/report/NiShiWugofski_FinalReport.pdf\n",
    "def getAvgSpectralCentroid(audio_path):\n",
    "    y, sr = load(audio_path)\n",
    "    spectral_centroids = librosa.feature.spectral_centroid(y+0.01, sr=sr)[0]\n",
    "    return spectral_centroids.mean()\n",
    "\n",
    "def getAvgSpectralBW(audio_path):\n",
    "    y, sr = load(audio_path)\n",
    "    spectral_bandwidth_2 = librosa.feature.spectral_bandwidth(y+0.01, sr=sr)[0]\n",
    "    return spectral_bandwidth_2.mean()"
   ]
  },
  {
   "cell_type": "code",
   "execution_count": 50,
   "metadata": {
    "collapsed": true
   },
   "outputs": [],
   "source": [
    "## http://musicinformationretrieval.com/chroma.html\n",
    "hop_length = 512\n",
    "def chroma(audio_path):\n",
    "    y, sr = load(audio_path)\n",
    "    chromagram = librosa.feature.chroma_cens(y, sr=sr, hop_length=hop_length)\n",
    "    return pd.Series({\n",
    "              \"Chroma_C\":chromagram[0].mean(), \"Chroma_C#\":chromagram[1].mean(),\n",
    "              \"Chroma_D\":chromagram[2].mean(), \"Chroma_D#\":chromagram[3].mean(),\n",
    "              \"Chroma_E\":chromagram[4].mean(), \"Chroma_F\":chromagram[5].mean(),\n",
    "              \"Chroma_F#\":chromagram[6].mean(), \"Chroma_G\":chromagram[7].mean(),\n",
    "              \"Chroma_G#\":chromagram[8].mean(), \"Chroma_A\":chromagram[9].mean(),\n",
    "              \"Chroma_A#\":chromagram[10].mean(), \"Chroma_B\":chromagram[11].mean()})"
   ]
  },
  {
   "cell_type": "code",
   "execution_count": 51,
   "metadata": {
    "collapsed": true
   },
   "outputs": [],
   "source": [
    "musicdf['bpm'] = musicdf['file'].apply(getbpm)"
   ]
  },
  {
   "cell_type": "code",
   "execution_count": 52,
   "metadata": {
    "collapsed": true
   },
   "outputs": [],
   "source": [
    "musicdf['duration'] = musicdf['file'].apply(getDuration)"
   ]
  },
  {
   "cell_type": "code",
   "execution_count": 53,
   "metadata": {
    "collapsed": true
   },
   "outputs": [],
   "source": [
    "musicdf['zero_crossings'] = musicdf['file'].apply(getZeroCrossings)"
   ]
  },
  {
   "cell_type": "code",
   "execution_count": 54,
   "metadata": {
    "collapsed": true
   },
   "outputs": [],
   "source": [
    "musicdf['spectral_centroid_avg'] =  musicdf['file'].apply(getAvgSpectralCentroid)"
   ]
  },
  {
   "cell_type": "code",
   "execution_count": 55,
   "metadata": {
    "collapsed": true
   },
   "outputs": [],
   "source": [
    "musicdf['spectral_bw_avg'] =  musicdf['file'].apply(getAvgSpectralBW)"
   ]
  },
  {
   "cell_type": "code",
   "execution_count": 56,
   "metadata": {
    "collapsed": true
   },
   "outputs": [],
   "source": [
    "#musicdf = pd.concat([musicdf, musicdf['file'].apply(chroma)], axis=1)\n",
    "musicdf.update(musicdf['file'].apply(chroma))"
   ]
  },
  {
   "cell_type": "code",
   "execution_count": 58,
   "metadata": {
    "collapsed": true
   },
   "outputs": [],
   "source": [
    "musicdf.to_csv('musicdf30.csv', encoding='latin-1')"
   ]
  },
  {
   "cell_type": "code",
   "execution_count": 57,
   "metadata": {},
   "outputs": [
    {
     "data": {
      "text/html": [
       "<div>\n",
       "<style>\n",
       "    .dataframe thead tr:only-child th {\n",
       "        text-align: right;\n",
       "    }\n",
       "\n",
       "    .dataframe thead th {\n",
       "        text-align: left;\n",
       "    }\n",
       "\n",
       "    .dataframe tbody tr th {\n",
       "        vertical-align: top;\n",
       "    }\n",
       "</style>\n",
       "<table border=\"1\" class=\"dataframe\">\n",
       "  <thead>\n",
       "    <tr style=\"text-align: right;\">\n",
       "      <th></th>\n",
       "      <th>composer</th>\n",
       "      <th>description</th>\n",
       "      <th>symphony</th>\n",
       "      <th>file</th>\n",
       "      <th>part</th>\n",
       "      <th>tempo</th>\n",
       "      <th>bpm</th>\n",
       "      <th>duration</th>\n",
       "      <th>zero_crossings</th>\n",
       "      <th>spectral_centroid_avg</th>\n",
       "      <th>...</th>\n",
       "      <th>Chroma_B</th>\n",
       "      <th>Chroma_C</th>\n",
       "      <th>Chroma_C#</th>\n",
       "      <th>Chroma_D</th>\n",
       "      <th>Chroma_D#</th>\n",
       "      <th>Chroma_E</th>\n",
       "      <th>Chroma_F</th>\n",
       "      <th>Chroma_F#</th>\n",
       "      <th>Chroma_G</th>\n",
       "      <th>Chroma_G#</th>\n",
       "    </tr>\n",
       "  </thead>\n",
       "  <tbody>\n",
       "    <tr>\n",
       "      <th>0</th>\n",
       "      <td>albeniz</td>\n",
       "      <td>Albeniz  Isaac(1860-1909)</td>\n",
       "      <td>Espana Opus 165</td>\n",
       "      <td>alb_esp1.mp3</td>\n",
       "      <td>Prelude</td>\n",
       "      <td>Andantino</td>\n",
       "      <td>120.185320</td>\n",
       "      <td>30.002698</td>\n",
       "      <td>33839</td>\n",
       "      <td>640.679613</td>\n",
       "      <td>...</td>\n",
       "      <td>0.141876</td>\n",
       "      <td>0.174059</td>\n",
       "      <td>0.235315</td>\n",
       "      <td>0.191668</td>\n",
       "      <td>0.270427</td>\n",
       "      <td>0.328634</td>\n",
       "      <td>0.232527</td>\n",
       "      <td>0.055501</td>\n",
       "      <td>0.050027</td>\n",
       "      <td>0.205815</td>\n",
       "    </tr>\n",
       "    <tr>\n",
       "      <th>1</th>\n",
       "      <td>albeniz</td>\n",
       "      <td>Albeniz  Isaac(1860-1909)</td>\n",
       "      <td>Espana Opus 165</td>\n",
       "      <td>alb_esp2.mp3</td>\n",
       "      <td>Tango</td>\n",
       "      <td>Andantino</td>\n",
       "      <td>120.185320</td>\n",
       "      <td>30.002698</td>\n",
       "      <td>26453</td>\n",
       "      <td>560.000413</td>\n",
       "      <td>...</td>\n",
       "      <td>0.161060</td>\n",
       "      <td>0.160480</td>\n",
       "      <td>0.317350</td>\n",
       "      <td>0.362431</td>\n",
       "      <td>0.250595</td>\n",
       "      <td>0.174810</td>\n",
       "      <td>0.172583</td>\n",
       "      <td>0.186237</td>\n",
       "      <td>0.170238</td>\n",
       "      <td>0.234457</td>\n",
       "    </tr>\n",
       "    <tr>\n",
       "      <th>2</th>\n",
       "      <td>albeniz</td>\n",
       "      <td>Albeniz  Isaac(1860-1909)</td>\n",
       "      <td>Espana Opus 165</td>\n",
       "      <td>alb_esp3.mp3</td>\n",
       "      <td>Malaguena</td>\n",
       "      <td>Allegretto</td>\n",
       "      <td>117.453835</td>\n",
       "      <td>30.002698</td>\n",
       "      <td>40915</td>\n",
       "      <td>761.211409</td>\n",
       "      <td>...</td>\n",
       "      <td>0.334959</td>\n",
       "      <td>0.281933</td>\n",
       "      <td>0.138918</td>\n",
       "      <td>0.170627</td>\n",
       "      <td>0.295441</td>\n",
       "      <td>0.301934</td>\n",
       "      <td>0.263001</td>\n",
       "      <td>0.335738</td>\n",
       "      <td>0.248279</td>\n",
       "      <td>0.130384</td>\n",
       "    </tr>\n",
       "    <tr>\n",
       "      <th>3</th>\n",
       "      <td>albeniz</td>\n",
       "      <td>Albeniz  Isaac(1860-1909)</td>\n",
       "      <td>Espana Opus 165</td>\n",
       "      <td>alb_esp4.mp3</td>\n",
       "      <td>Serenata</td>\n",
       "      <td>Allegretto</td>\n",
       "      <td>112.347147</td>\n",
       "      <td>30.002698</td>\n",
       "      <td>34665</td>\n",
       "      <td>678.501668</td>\n",
       "      <td>...</td>\n",
       "      <td>0.225666</td>\n",
       "      <td>0.225116</td>\n",
       "      <td>0.312408</td>\n",
       "      <td>0.398074</td>\n",
       "      <td>0.317425</td>\n",
       "      <td>0.131499</td>\n",
       "      <td>0.119087</td>\n",
       "      <td>0.200023</td>\n",
       "      <td>0.217149</td>\n",
       "      <td>0.185478</td>\n",
       "    </tr>\n",
       "    <tr>\n",
       "      <th>4</th>\n",
       "      <td>albeniz</td>\n",
       "      <td>Albeniz  Isaac(1860-1909)</td>\n",
       "      <td>Espana Opus 165</td>\n",
       "      <td>alb_esp5.mp3</td>\n",
       "      <td>Capricho Catalan</td>\n",
       "      <td>Allegretto</td>\n",
       "      <td>120.185320</td>\n",
       "      <td>30.002698</td>\n",
       "      <td>30595</td>\n",
       "      <td>583.487585</td>\n",
       "      <td>...</td>\n",
       "      <td>0.272851</td>\n",
       "      <td>0.067138</td>\n",
       "      <td>0.121657</td>\n",
       "      <td>0.338595</td>\n",
       "      <td>0.406299</td>\n",
       "      <td>0.223670</td>\n",
       "      <td>0.139772</td>\n",
       "      <td>0.165996</td>\n",
       "      <td>0.230227</td>\n",
       "      <td>0.194519</td>\n",
       "    </tr>\n",
       "  </tbody>\n",
       "</table>\n",
       "<p>5 rows × 23 columns</p>\n",
       "</div>"
      ],
      "text/plain": [
       "  composer                description         symphony          file  \\\n",
       "0  albeniz  Albeniz  Isaac(1860-1909)  Espana Opus 165  alb_esp1.mp3   \n",
       "1  albeniz  Albeniz  Isaac(1860-1909)  Espana Opus 165  alb_esp2.mp3   \n",
       "2  albeniz  Albeniz  Isaac(1860-1909)  Espana Opus 165  alb_esp3.mp3   \n",
       "3  albeniz  Albeniz  Isaac(1860-1909)  Espana Opus 165  alb_esp4.mp3   \n",
       "4  albeniz  Albeniz  Isaac(1860-1909)  Espana Opus 165  alb_esp5.mp3   \n",
       "\n",
       "               part       tempo         bpm   duration  zero_crossings  \\\n",
       "0           Prelude   Andantino  120.185320  30.002698           33839   \n",
       "1             Tango   Andantino  120.185320  30.002698           26453   \n",
       "2         Malaguena  Allegretto  117.453835  30.002698           40915   \n",
       "3          Serenata  Allegretto  112.347147  30.002698           34665   \n",
       "4  Capricho Catalan  Allegretto  120.185320  30.002698           30595   \n",
       "\n",
       "   spectral_centroid_avg    ...      Chroma_B  Chroma_C  Chroma_C#  Chroma_D  \\\n",
       "0             640.679613    ...      0.141876  0.174059   0.235315  0.191668   \n",
       "1             560.000413    ...      0.161060  0.160480   0.317350  0.362431   \n",
       "2             761.211409    ...      0.334959  0.281933   0.138918  0.170627   \n",
       "3             678.501668    ...      0.225666  0.225116   0.312408  0.398074   \n",
       "4             583.487585    ...      0.272851  0.067138   0.121657  0.338595   \n",
       "\n",
       "   Chroma_D#  Chroma_E  Chroma_F  Chroma_F#  Chroma_G  Chroma_G#  \n",
       "0   0.270427  0.328634  0.232527   0.055501  0.050027   0.205815  \n",
       "1   0.250595  0.174810  0.172583   0.186237  0.170238   0.234457  \n",
       "2   0.295441  0.301934  0.263001   0.335738  0.248279   0.130384  \n",
       "3   0.317425  0.131499  0.119087   0.200023  0.217149   0.185478  \n",
       "4   0.406299  0.223670  0.139772   0.165996  0.230227   0.194519  \n",
       "\n",
       "[5 rows x 23 columns]"
      ]
     },
     "execution_count": 57,
     "metadata": {},
     "output_type": "execute_result"
    }
   ],
   "source": [
    "musicdf.head()"
   ]
  }
 ],
 "metadata": {
  "kernelspec": {
   "display_name": "Python 3",
   "language": "python",
   "name": "python3"
  },
  "language_info": {
   "codemirror_mode": {
    "name": "ipython",
    "version": 3
   },
   "file_extension": ".py",
   "mimetype": "text/x-python",
   "name": "python",
   "nbconvert_exporter": "python",
   "pygments_lexer": "ipython3",
   "version": "3.6.1"
  }
 },
 "nbformat": 4,
 "nbformat_minor": 2
}
