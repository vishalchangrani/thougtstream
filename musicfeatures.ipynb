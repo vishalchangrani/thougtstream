{
 "cells": [
  {
   "cell_type": "code",
   "execution_count": 1,
   "metadata": {
    "collapsed": true
   },
   "outputs": [],
   "source": [
    "from __future__ import print_function\n",
    "from pathlib import Path"
   ]
  },
  {
   "cell_type": "code",
   "execution_count": 2,
   "metadata": {
    "collapsed": true
   },
   "outputs": [],
   "source": [
    "# We'll need numpy for some mathematical operations\n",
    "import numpy as np\n",
    "\n",
    "\n",
    "# matplotlib for displaying the output\n",
    "import matplotlib.pyplot as plt\n",
    "import matplotlib.style as ms\n",
    "ms.use('seaborn-muted')\n",
    "%matplotlib inline\n",
    "\n",
    "\n",
    "# and IPython.display for audio output\n",
    "import IPython.display\n",
    "\n",
    "\n",
    "# Librosa for audio\n",
    "import librosa\n",
    "# And the display module for visualization\n",
    "import librosa.display\n"
   ]
  },
  {
   "cell_type": "code",
   "execution_count": 3,
   "metadata": {
    "collapsed": true
   },
   "outputs": [],
   "source": [
    "# Imports\n",
    "# pandas\n",
    "import pandas as pd\n",
    "from pandas import Series,DataFrame\n",
    "# numpy, matplotlib, seaborn\n",
    "import numpy as np\n",
    "import matplotlib.pyplot as plt\n",
    "from datetime import datetime\n",
    "%matplotlib inline\n",
    "np.set_printoptions(precision=5, suppress=True)  # suppress scientific float notation"
   ]
  },
  {
   "cell_type": "code",
   "execution_count": 4,
   "metadata": {
    "collapsed": true
   },
   "outputs": [],
   "source": [
    "mp3dir = 'piano_first_thirty_sec'"
   ]
  },
  {
   "cell_type": "code",
   "execution_count": 5,
   "metadata": {
    "collapsed": true
   },
   "outputs": [],
   "source": [
    "#colnames = ['composer','description', 'symphony', 'file', 'part', 'tempo', 'bpm']\n",
    "musicdf = pd.read_csv('./musicdf.csv', index_col=0, encoding='latin-1')"
   ]
  },
  {
   "cell_type": "code",
   "execution_count": 6,
   "metadata": {
    "collapsed": true
   },
   "outputs": [],
   "source": [
    "def load(audio_path):\n",
    "    audio_path = '.\\\\'+ mp3dir + '\\\\' + audio_path\n",
    "    my_file = Path(audio_path)\n",
    "    if my_file.is_file():\n",
    "        return librosa.load(audio_path, sr=None)\n",
    "    else:\n",
    "        return None, None"
   ]
  },
  {
   "cell_type": "code",
   "execution_count": 46,
   "metadata": {
    "collapsed": true
   },
   "outputs": [],
   "source": [
    "def getbpm(audio_path):\n",
    "    y, sr = load(audio_path)\n",
    "    onset_env = librosa.onset.onset_strength(y, sr=sr)\n",
    "    return librosa.beat.tempo(onset_envelope=onset_env, sr=sr)[0]"
   ]
  },
  {
   "cell_type": "code",
   "execution_count": 47,
   "metadata": {
    "collapsed": true
   },
   "outputs": [],
   "source": [
    "def getDuration(audio_path):\n",
    "    y, sr = load(audio_path)\n",
    "    return librosa.core.get_duration(y,sr)"
   ]
  },
  {
   "cell_type": "code",
   "execution_count": 12,
   "metadata": {},
   "outputs": [
    {
     "data": {
      "text/plain": [
       "<matplotlib.collections.PolyCollection at 0x254644405c0>"
      ]
     },
     "execution_count": 12,
     "metadata": {},
     "output_type": "execute_result"
    },
    {
     "data": {
      "image/png": "[encoded data removed]",
      "text/plain": [
       "<matplotlib.figure.Figure at 0x25464350748>"
      ]
     },
     "metadata": {},
     "output_type": "display_data"
    }
   ],
   "source": [
    "x, sr= load(musicdf.iloc[0].file)\n",
    "librosa.display.waveplot(x, sr=sr)"
   ]
  },
  {
   "cell_type": "code",
   "execution_count": 48,
   "metadata": {
    "collapsed": true
   },
   "outputs": [],
   "source": [
    "def getZeroCrossings(audio_path):\n",
    "    y, sr = load(audio_path)\n",
    "    return sum(librosa.zero_crossings(y, pad=False, threshold=0.001))"
   ]
  },
  {
   "cell_type": "code",
   "execution_count": 49,
   "metadata": {
    "collapsed": true
   },
   "outputs": [],
   "source": [
    "## http://musicinformationretrieval.com/spectral_features.html\n",
    "## http://cs229.stanford.edu/proj2016/report/NiShiWugofski_FinalReport.pdf\n",
    "def getAvgSpectralCentroid(audio_path):\n",
    "    y, sr = load(audio_path)\n",
    "    spectral_centroids = librosa.feature.spectral_centroid(y+0.01, sr=sr)[0]\n",
    "    return spectral_centroids.mean()\n",
    "\n",
    "def getAvgSpectralBW(audio_path):\n",
    "    y, sr = load(audio_path)\n",
    "    spectral_bandwidth_2 = librosa.feature.spectral_bandwidth(y+0.01, sr=sr)[0]\n",
    "    return spectral_bandwidth_2.mean()"
   ]
  },
  {
   "cell_type": "code",
   "execution_count": 48,
   "metadata": {
    "collapsed": true
   },
   "outputs": [],
   "source": [
    "## http://musicinformationretrieval.com/chroma.html\n",
    "hop_length = 512\n",
    "def chroma(audio_path):\n",
    "    y, sr = load(audio_path)\n",
    "    chromagram = librosa.feature.chroma_cens(y, sr=sr, hop_length=hop_length)\n",
    "    return pd.Series({\n",
    "              \"Chroma_C\":chromagram[0].mean(), \"Chroma_C#\":chromagram[1].mean(),\n",
    "              \"Chroma_D\":chromagram[2].mean(), \"Chroma_D#\":chromagram[3].mean(),\n",
    "              \"Chroma_E\":chromagram[4].mean(), \"Chroma_F\":chromagram[5].mean(),\n",
    "              \"Chroma_F#\":chromagram[6].mean(), \"Chroma_G\":chromagram[7].mean(),\n",
    "              \"Chroma_G#\":chromagram[8].mean(), \"Chroma_A\":chromagram[9].mean(),\n",
    "              \"Chroma_A#\":chromagram[10].mean(), \"Chroma_B\":chromagram[11].mean(),\n",
    "              \"Chroma_SD_C\":chromagram[0].std(), \"Chroma_SD_C#\":chromagram[1].std(),\n",
    "              \"Chroma_SD_D\":chromagram[2].std(), \"Chroma_SD_D#\":chromagram[3].std(),\n",
    "              \"Chroma_SD_E\":chromagram[4].std(), \"Chroma_SD_F\":chromagram[5].std(),\n",
    "              \"Chroma_SD_F#\":chromagram[6].std(), \"Chroma_SD_G\":chromagram[7].std(),\n",
    "              \"Chroma_SD_G#\":chromagram[8].std(), \"Chroma_SD_A\":chromagram[9].std(),\n",
    "              \"Chroma_SD_A#\":chromagram[10].std(), \"Chroma_SD_B\":chromagram[11].std()})"
   ]
  },
  {
   "cell_type": "code",
   "execution_count": 35,
   "metadata": {
    "collapsed": true
   },
   "outputs": [],
   "source": [
    "def mfcc(audio_path):\n",
    "    y, sr = load(audio_path)\n",
    "    mfcc = librosa.feature.mfcc(y, sr=sr, n_mfcc=12)\n",
    "    return pd.Series({\n",
    "              \"MFCC_0\":mfcc[0].mean(), \"MFCC_1\":mfcc[1].mean(),\n",
    "              \"MFCC_2\":mfcc[2].mean(), \"MFCC_3\":mfcc[3].mean(),\n",
    "              \"MFCC_4\":mfcc[4].mean(), \"MFCC_5\":mfcc[5].mean(),\n",
    "              \"MFCC_6\":mfcc[6].mean(), \"MFCC_7\":mfcc[7].mean(),\n",
    "              \"MFCC_8\":mfcc[8].mean(), \"MFCC_9\":mfcc[9].mean(),\n",
    "              \"MFCC_10\":mfcc[10].mean(), \"MFCC_11\":mfcc[11].mean(),\n",
    "              \"MFCC_SD_0\":mfcc[0].std(), \"MFCC_SD_1\":mfcc[1].std(),\n",
    "              \"MFCC_SD_2\":mfcc[2].std(), \"MFCC_SD_3\":mfcc[3].std(),\n",
    "              \"MFCC_SD_4\":mfcc[4].std(), \"MFCC_SD_5\":mfcc[5].std(),\n",
    "              \"MFCC_SD_6\":mfcc[6].std(), \"MFCC_SD_7\":mfcc[7].std(),\n",
    "              \"MFCC_SD_8\":mfcc[8].std(), \"MFCC_SD_9\":mfcc[9].std(),\n",
    "              \"MFCC_SD_10\":mfcc[10].std(), \"MFCC_SD_11\":mfcc[11].std()\n",
    "    })    "
   ]
  },
  {
   "cell_type": "code",
   "execution_count": 51,
   "metadata": {
    "collapsed": true
   },
   "outputs": [],
   "source": [
    "musicdf['bpm'] = musicdf['file'].apply(getbpm)"
   ]
  },
  {
   "cell_type": "code",
   "execution_count": 52,
   "metadata": {
    "collapsed": true
   },
   "outputs": [],
   "source": [
    "musicdf['duration'] = musicdf['file'].apply(getDuration)"
   ]
  },
  {
   "cell_type": "code",
   "execution_count": 53,
   "metadata": {
    "collapsed": true
   },
   "outputs": [],
   "source": [
    "musicdf['zero_crossings'] = musicdf['file'].apply(getZeroCrossings)"
   ]
  },
  {
   "cell_type": "code",
   "execution_count": 54,
   "metadata": {
    "collapsed": true
   },
   "outputs": [],
   "source": [
    "musicdf['spectral_centroid_avg'] =  musicdf['file'].apply(getAvgSpectralCentroid)"
   ]
  },
  {
   "cell_type": "code",
   "execution_count": 55,
   "metadata": {
    "collapsed": true
   },
   "outputs": [],
   "source": [
    "musicdf['spectral_bw_avg'] =  musicdf['file'].apply(getAvgSpectralBW)"
   ]
  },
  {
   "cell_type": "code",
   "execution_count": 47,
   "metadata": {
    "collapsed": true
   },
   "outputs": [],
   "source": [
    "musicdf = pd.concat([musicdf, musicdf['file'].apply(chroma)], axis=1)\n",
    "#musicdf.update(musicdf['file'].apply(chroma))"
   ]
  },
  {
   "cell_type": "code",
   "execution_count": null,
   "metadata": {
    "collapsed": true
   },
   "outputs": [],
   "source": [
    "musicdf = pd.concat([musicdf, musicdf['file'].apply(mfcc)], axis=1)"
   ]
  },
  {
   "cell_type": "code",
   "execution_count": 51,
   "metadata": {
    "collapsed": true
   },
   "outputs": [],
   "source": [
    "musicdf.to_csv('musicdf30.csv', encoding='latin-1')"
   ]
  },
  {
   "cell_type": "code",
   "execution_count": 50,
   "metadata": {},
   "outputs": [
    {
     "data": {
      "text/plain": [
       "(61, 59)"
      ]
     },
     "execution_count": 50,
     "metadata": {},
     "output_type": "execute_result"
    }
   ],
   "source": [
    "musicdf.shape"
   ]
  }
 ],
 "metadata": {
  "kernelspec": {
   "display_name": "Python 3",
   "language": "python",
   "name": "python3"
  },
  "language_info": {
   "codemirror_mode": {
    "name": "ipython",
    "version": 3
   },
   "file_extension": ".py",
   "mimetype": "text/x-python",
   "name": "python",
   "nbconvert_exporter": "python",
   "pygments_lexer": "ipython3",
   "version": "3.6.1"
  }
 },
 "nbformat": 4,
 "nbformat_minor": 2
}
