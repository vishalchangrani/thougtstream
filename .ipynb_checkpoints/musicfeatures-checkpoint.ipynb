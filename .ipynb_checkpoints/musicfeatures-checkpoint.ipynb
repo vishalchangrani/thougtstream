{
 "cells": [
  {
   "cell_type": "code",
   "execution_count": 1,
   "metadata": {
    "collapsed": true
   },
   "outputs": [],
   "source": [
    "from __future__ import print_function\n",
    "from pathlib import Path"
   ]
  },
  {
   "cell_type": "code",
   "execution_count": 2,
   "metadata": {
    "collapsed": true
   },
   "outputs": [],
   "source": [
    "# We'll need numpy for some mathematical operations\n",
    "import numpy as np\n",
    "\n",
    "\n",
    "# matplotlib for displaying the output\n",
    "import matplotlib.pyplot as plt\n",
    "import matplotlib.style as ms\n",
    "ms.use('seaborn-muted')\n",
    "%matplotlib inline\n",
    "\n",
    "\n",
    "# and IPython.display for audio output\n",
    "import IPython.display\n",
    "\n",
    "\n",
    "# Librosa for audio\n",
    "import librosa\n",
    "# And the display module for visualization\n",
    "import librosa.display"
   ]
  },
  {
   "cell_type": "code",
   "execution_count": 3,
   "metadata": {
    "collapsed": true
   },
   "outputs": [],
   "source": [
    "# Imports\n",
    "# pandas\n",
    "import pandas as pd\n",
    "from pandas import Series,DataFrame\n",
    "# numpy, matplotlib, seaborn\n",
    "import numpy as np\n",
    "import matplotlib.pyplot as plt\n",
    "from datetime import datetime\n",
    "%matplotlib inline"
   ]
  },
  {
   "cell_type": "code",
   "execution_count": 7,
   "metadata": {
    "collapsed": true
   },
   "outputs": [],
   "source": [
    "mp3dir = 'piano'"
   ]
  },
  {
   "cell_type": "code",
   "execution_count": 23,
   "metadata": {
    "collapsed": true
   },
   "outputs": [],
   "source": [
    "#colnames = ['composer','description', 'symphony', 'file', 'part', 'tempo', 'bpm']\n",
    "musicdf = pd.read_csv('./musicdf.csv', index_col=0, encoding='latin-1')"
   ]
  },
  {
   "cell_type": "code",
   "execution_count": 9,
   "metadata": {
    "collapsed": true
   },
   "outputs": [],
   "source": [
    "def load(audio_path):\n",
    "    audio_path = '.\\\\'+ mp3dir + '\\\\' + audio_path\n",
    "    my_file = Path(audio_path)\n",
    "    if my_file.is_file():\n",
    "        return librosa.load(audio_path, sr=None)\n",
    "    else:\n",
    "        return None, None"
   ]
  },
  {
   "cell_type": "code",
   "execution_count": 25,
   "metadata": {
    "collapsed": true
   },
   "outputs": [],
   "source": [
    "def getbpm(audio_path):\n",
    "    y, sr = load(audio_path, sr=None)\n",
    "    onset_env = librosa.onset.onset_strength(y, sr=sr)\n",
    "    return librosa.beat.tempo(onset_envelope=onset_env, sr=sr)[0]"
   ]
  },
  {
   "cell_type": "code",
   "execution_count": 28,
   "metadata": {
    "collapsed": true
   },
   "outputs": [],
   "source": [
    "def getDuration(audio_path):\n",
    "    y, sr = load(audio_path)\n",
    "    return librosa.core.get_duration(y,sr)"
   ]
  },
  {
   "cell_type": "code",
   "execution_count": 40,
   "metadata": {
    "collapsed": true
   },
   "outputs": [],
   "source": [
    "def getZeroCrossings(audio_path):\n",
    "    y, sr = load(audio_path)\n",
    "    return sum(librosa.zero_crossings(y, pad=False, threshold=0.001))"
   ]
  },
  {
   "cell_type": "code",
   "execution_count": 66,
   "metadata": {
    "collapsed": true
   },
   "outputs": [],
   "source": [
    "## http://musicinformationretrieval.com/spectral_features.html\n",
    "## http://cs229.stanford.edu/proj2016/report/NiShiWugofski_FinalReport.pdf\n",
    "def getAvgSpectralCentroid(audio_path):\n",
    "    y, sr = load(audio_path)\n",
    "    spectral_centroids = librosa.feature.spectral_centroid(y+0.01, sr=sr)[0]\n",
    "    return spectral_centroids.mean()\n",
    "\n",
    "def getAvgSpectralBW(audio_path):\n",
    "    y, sr = load(audio_path)\n",
    "    spectral_bandwidth_2 = librosa.feature.spectral_bandwidth(y+0.01, sr=sr)[0]\n",
    "    return spectral_bandwidth_2.mean()"
   ]
  },
  {
   "cell_type": "code",
   "execution_count": 96,
   "metadata": {
    "collapsed": true
   },
   "outputs": [],
   "source": [
    "## http://musicinformationretrieval.com/chroma.html\n",
    "hop_length = 512\n",
    "def chroma(audio_path):\n",
    "    y, sr = load(audio_path)\n",
    "    chromagram = librosa.feature.chroma_cens(y, sr=sr, hop_length=hop_length)\n",
    "    return pd.Series({\n",
    "              \"Chroma_C\":chromagram[0].mean(), \"Chroma_C#\":chromagram[1].mean(),\n",
    "              \"Chroma_D\":chromagram[2].mean(), \"Chroma_D#\":chromagram[3].mean(),\n",
    "              \"Chroma_E\":chromagram[4].mean(), \"Chroma_F\":chromagram[5].mean(),\n",
    "              \"Chroma_F#\":chromagram[6].mean(), \"Chroma_G\":chromagram[7].mean(),\n",
    "              \"Chroma_G#\":chromagram[8].mean(), \"Chroma_A\":chromagram[9].mean(),\n",
    "              \"Chroma_A#\":chromagram[10].mean(), \"Chroma_B\":chromagram[11].mean()})"
   ]
  },
  {
   "cell_type": "code",
   "execution_count": 29,
   "metadata": {
    "collapsed": true
   },
   "outputs": [],
   "source": [
    "musicdf['duration'] = musicdf['file'].apply(getDuration)"
   ]
  },
  {
   "cell_type": "code",
   "execution_count": 41,
   "metadata": {
    "collapsed": true
   },
   "outputs": [],
   "source": [
    "musicdf['zero_crossings'] = musicdf['file'].apply(getZeroCrossings)"
   ]
  },
  {
   "cell_type": "code",
   "execution_count": 67,
   "metadata": {
    "collapsed": true
   },
   "outputs": [],
   "source": [
    "musicdf['spectral_centroid_avg'] =  musicdf['file'].apply(getAvgSpectralCentroid)"
   ]
  },
  {
   "cell_type": "code",
   "execution_count": 69,
   "metadata": {
    "collapsed": true
   },
   "outputs": [],
   "source": [
    "musicdf['spectral_bw_avg'] =  musicdf['file'].apply(getAvgSpectralBW)"
   ]
  },
  {
   "cell_type": "code",
   "execution_count": 108,
   "metadata": {
    "collapsed": true
   },
   "outputs": [],
   "source": [
    "musicdf = pd.concat([musicdf, musicdf['file'].apply(chroma)], axis=1)"
   ]
  },
  {
   "cell_type": "code",
   "execution_count": 111,
   "metadata": {
    "collapsed": true
   },
   "outputs": [],
   "source": [
    "musicdf.to_csv('musicdf.csv', encoding='latin-1')"
   ]
  },
  {
   "cell_type": "code",
   "execution_count": 116,
   "metadata": {
    "collapsed": false
   },
   "outputs": [
    {
     "data": {
      "text/html": [
       "<div>\n",
       "<style>\n",
       "    .dataframe thead tr:only-child th {\n",
       "        text-align: right;\n",
       "    }\n",
       "\n",
       "    .dataframe thead th {\n",
       "        text-align: left;\n",
       "    }\n",
       "\n",
       "    .dataframe tbody tr th {\n",
       "        vertical-align: top;\n",
       "    }\n",
       "</style>\n",
       "<table border=\"1\" class=\"dataframe\">\n",
       "  <thead>\n",
       "    <tr style=\"text-align: right;\">\n",
       "      <th></th>\n",
       "      <th>composer</th>\n",
       "      <th>description</th>\n",
       "      <th>symphony</th>\n",
       "      <th>file</th>\n",
       "      <th>part</th>\n",
       "      <th>tempo</th>\n",
       "      <th>bpm</th>\n",
       "      <th>duration</th>\n",
       "      <th>zero_crossings</th>\n",
       "      <th>spectral_centroid_avg</th>\n",
       "      <th>...</th>\n",
       "      <th>Chroma_B</th>\n",
       "      <th>Chroma_C</th>\n",
       "      <th>Chroma_C#</th>\n",
       "      <th>Chroma_D</th>\n",
       "      <th>Chroma_D#</th>\n",
       "      <th>Chroma_E</th>\n",
       "      <th>Chroma_F</th>\n",
       "      <th>Chroma_F#</th>\n",
       "      <th>Chroma_G</th>\n",
       "      <th>Chroma_G#</th>\n",
       "    </tr>\n",
       "  </thead>\n",
       "  <tbody>\n",
       "    <tr>\n",
       "      <th>0</th>\n",
       "      <td>albeniz</td>\n",
       "      <td>Albeniz  Isaac(1860-1909)</td>\n",
       "      <td>Espana Opus 165</td>\n",
       "      <td>alb_esp1.mp3</td>\n",
       "      <td>Prelude</td>\n",
       "      <td>Andantino</td>\n",
       "      <td>120.185320</td>\n",
       "      <td>93.570612</td>\n",
       "      <td>98094</td>\n",
       "      <td>621.574748</td>\n",
       "      <td>...</td>\n",
       "      <td>0.153182</td>\n",
       "      <td>0.163911</td>\n",
       "      <td>0.208427</td>\n",
       "      <td>0.168379</td>\n",
       "      <td>0.238633</td>\n",
       "      <td>0.336008</td>\n",
       "      <td>0.243159</td>\n",
       "      <td>0.079397</td>\n",
       "      <td>0.086933</td>\n",
       "      <td>0.250270</td>\n",
       "    </tr>\n",
       "    <tr>\n",
       "      <th>1</th>\n",
       "      <td>albeniz</td>\n",
       "      <td>Albeniz  Isaac(1860-1909)</td>\n",
       "      <td>Espana Opus 165</td>\n",
       "      <td>alb_esp2.mp3</td>\n",
       "      <td>Tango</td>\n",
       "      <td>Andantino</td>\n",
       "      <td>120.185320</td>\n",
       "      <td>128.705306</td>\n",
       "      <td>110224</td>\n",
       "      <td>542.039355</td>\n",
       "      <td>...</td>\n",
       "      <td>0.174298</td>\n",
       "      <td>0.173248</td>\n",
       "      <td>0.294497</td>\n",
       "      <td>0.309316</td>\n",
       "      <td>0.228256</td>\n",
       "      <td>0.175391</td>\n",
       "      <td>0.216309</td>\n",
       "      <td>0.248869</td>\n",
       "      <td>0.206792</td>\n",
       "      <td>0.214362</td>\n",
       "    </tr>\n",
       "    <tr>\n",
       "      <th>2</th>\n",
       "      <td>albeniz</td>\n",
       "      <td>Albeniz  Isaac(1860-1909)</td>\n",
       "      <td>Espana Opus 165</td>\n",
       "      <td>alb_esp3.mp3</td>\n",
       "      <td>Malaguena</td>\n",
       "      <td>Allegretto</td>\n",
       "      <td>117.453835</td>\n",
       "      <td>176.039184</td>\n",
       "      <td>214944</td>\n",
       "      <td>701.140112</td>\n",
       "      <td>...</td>\n",
       "      <td>0.337266</td>\n",
       "      <td>0.283066</td>\n",
       "      <td>0.168023</td>\n",
       "      <td>0.214188</td>\n",
       "      <td>0.280288</td>\n",
       "      <td>0.256801</td>\n",
       "      <td>0.226545</td>\n",
       "      <td>0.262843</td>\n",
       "      <td>0.212666</td>\n",
       "      <td>0.122759</td>\n",
       "    </tr>\n",
       "    <tr>\n",
       "      <th>3</th>\n",
       "      <td>albeniz</td>\n",
       "      <td>Albeniz  Isaac(1860-1909)</td>\n",
       "      <td>Espana Opus 165</td>\n",
       "      <td>alb_esp4.mp3</td>\n",
       "      <td>Serenata</td>\n",
       "      <td>Allegretto</td>\n",
       "      <td>112.347147</td>\n",
       "      <td>195.422041</td>\n",
       "      <td>203680</td>\n",
       "      <td>631.094119</td>\n",
       "      <td>...</td>\n",
       "      <td>0.209628</td>\n",
       "      <td>0.174364</td>\n",
       "      <td>0.299919</td>\n",
       "      <td>0.411335</td>\n",
       "      <td>0.332501</td>\n",
       "      <td>0.154529</td>\n",
       "      <td>0.150277</td>\n",
       "      <td>0.198104</td>\n",
       "      <td>0.200891</td>\n",
       "      <td>0.167651</td>\n",
       "    </tr>\n",
       "    <tr>\n",
       "      <th>4</th>\n",
       "      <td>albeniz</td>\n",
       "      <td>Albeniz  Isaac(1860-1909)</td>\n",
       "      <td>Espana Opus 165</td>\n",
       "      <td>alb_esp5.mp3</td>\n",
       "      <td>Capricho Catalan</td>\n",
       "      <td>Allegretto</td>\n",
       "      <td>120.185320</td>\n",
       "      <td>124.499592</td>\n",
       "      <td>118904</td>\n",
       "      <td>570.265597</td>\n",
       "      <td>...</td>\n",
       "      <td>0.278280</td>\n",
       "      <td>0.111374</td>\n",
       "      <td>0.121463</td>\n",
       "      <td>0.282690</td>\n",
       "      <td>0.346701</td>\n",
       "      <td>0.247912</td>\n",
       "      <td>0.183207</td>\n",
       "      <td>0.166180</td>\n",
       "      <td>0.201429</td>\n",
       "      <td>0.196916</td>\n",
       "    </tr>\n",
       "  </tbody>\n",
       "</table>\n",
       "<p>5 rows × 23 columns</p>\n",
       "</div>"
      ],
      "text/plain": [
       "  composer                description         symphony          file  \\\n",
       "0  albeniz  Albeniz  Isaac(1860-1909)  Espana Opus 165  alb_esp1.mp3   \n",
       "1  albeniz  Albeniz  Isaac(1860-1909)  Espana Opus 165  alb_esp2.mp3   \n",
       "2  albeniz  Albeniz  Isaac(1860-1909)  Espana Opus 165  alb_esp3.mp3   \n",
       "3  albeniz  Albeniz  Isaac(1860-1909)  Espana Opus 165  alb_esp4.mp3   \n",
       "4  albeniz  Albeniz  Isaac(1860-1909)  Espana Opus 165  alb_esp5.mp3   \n",
       "\n",
       "               part       tempo         bpm    duration  zero_crossings  \\\n",
       "0           Prelude   Andantino  120.185320   93.570612           98094   \n",
       "1             Tango   Andantino  120.185320  128.705306          110224   \n",
       "2         Malaguena  Allegretto  117.453835  176.039184          214944   \n",
       "3          Serenata  Allegretto  112.347147  195.422041          203680   \n",
       "4  Capricho Catalan  Allegretto  120.185320  124.499592          118904   \n",
       "\n",
       "   spectral_centroid_avg    ...      Chroma_B  Chroma_C  Chroma_C#  Chroma_D  \\\n",
       "0             621.574748    ...      0.153182  0.163911   0.208427  0.168379   \n",
       "1             542.039355    ...      0.174298  0.173248   0.294497  0.309316   \n",
       "2             701.140112    ...      0.337266  0.283066   0.168023  0.214188   \n",
       "3             631.094119    ...      0.209628  0.174364   0.299919  0.411335   \n",
       "4             570.265597    ...      0.278280  0.111374   0.121463  0.282690   \n",
       "\n",
       "   Chroma_D#  Chroma_E  Chroma_F  Chroma_F#  Chroma_G  Chroma_G#  \n",
       "0   0.238633  0.336008  0.243159   0.079397  0.086933   0.250270  \n",
       "1   0.228256  0.175391  0.216309   0.248869  0.206792   0.214362  \n",
       "2   0.280288  0.256801  0.226545   0.262843  0.212666   0.122759  \n",
       "3   0.332501  0.154529  0.150277   0.198104  0.200891   0.167651  \n",
       "4   0.346701  0.247912  0.183207   0.166180  0.201429   0.196916  \n",
       "\n",
       "[5 rows x 23 columns]"
      ]
     },
     "execution_count": 116,
     "metadata": {},
     "output_type": "execute_result"
    }
   ],
   "source": [
    "musicdf.head()"
   ]
  }
 ],
 "metadata": {
  "kernelspec": {
   "display_name": "Python 2",
   "language": "python",
   "name": "python2"
  },
  "language_info": {
   "codemirror_mode": {
    "name": "ipython",
    "version": 2
   },
   "file_extension": ".py",
   "mimetype": "text/x-python",
   "name": "python",
   "nbconvert_exporter": "python",
   "pygments_lexer": "ipython2",
   "version": "2.7.13"
  }
 },
 "nbformat": 4,
 "nbformat_minor": 2
}
