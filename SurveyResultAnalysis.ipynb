{
 "cells": [
  {
   "cell_type": "code",
   "execution_count": 54,
   "metadata": {
    "collapsed": true
   },
   "outputs": [],
   "source": [
    "%matplotlib inline\n",
    "import pandas as pd\n",
    "import sklearn\n",
    "from sklearn import preprocessing\n",
    "from sklearn import cluster\n",
    "import matplotlib.pyplot as plt\n",
    "import seaborn as sns\n",
    "import numpy as np\n",
    "from scipy.cluster.hierarchy import dendrogram, linkage\n",
    "from pathlib import Path\n",
    "import librosa, librosa.display\n",
    "import IPython.lib.display as ipd\n",
    "\n",
    "\n",
    "### Setup Seaborn\n",
    "sns.set_style(\"whitegrid\")\n",
    "sns.set_context(\"poster\")"
   ]
  },
  {
   "cell_type": "code",
   "execution_count": 55,
   "metadata": {
    "collapsed": true
   },
   "outputs": [],
   "source": [
    "results = pd.read_csv('./surveyresult/results.csv', dtype={'happiness': str}, encoding='latin-1')"
   ]
  },
  {
   "cell_type": "code",
   "execution_count": 56,
   "metadata": {},
   "outputs": [
    {
     "data": {
      "text/html": [
       "<div>\n",
       "<style>\n",
       "    .dataframe thead tr:only-child th {\n",
       "        text-align: right;\n",
       "    }\n",
       "\n",
       "    .dataframe thead th {\n",
       "        text-align: left;\n",
       "    }\n",
       "\n",
       "    .dataframe tbody tr th {\n",
       "        vertical-align: top;\n",
       "    }\n",
       "</style>\n",
       "<table border=\"1\" class=\"dataframe\">\n",
       "  <thead>\n",
       "    <tr style=\"text-align: right;\">\n",
       "      <th></th>\n",
       "      <th>file</th>\n",
       "      <th>happiness</th>\n",
       "    </tr>\n",
       "  </thead>\n",
       "  <tbody>\n",
       "    <tr>\n",
       "      <th>count</th>\n",
       "      <td>61</td>\n",
       "      <td>61</td>\n",
       "    </tr>\n",
       "    <tr>\n",
       "      <th>unique</th>\n",
       "      <td>61</td>\n",
       "      <td>5</td>\n",
       "    </tr>\n",
       "    <tr>\n",
       "      <th>top</th>\n",
       "      <td>islamei.mp3</td>\n",
       "      <td>3</td>\n",
       "    </tr>\n",
       "    <tr>\n",
       "      <th>freq</th>\n",
       "      <td>1</td>\n",
       "      <td>21</td>\n",
       "    </tr>\n",
       "  </tbody>\n",
       "</table>\n",
       "</div>"
      ],
      "text/plain": [
       "               file happiness\n",
       "count            61        61\n",
       "unique           61         5\n",
       "top     islamei.mp3         3\n",
       "freq              1        21"
      ]
     },
     "execution_count": 56,
     "metadata": {},
     "output_type": "execute_result"
    }
   ],
   "source": [
    "results.describe()"
   ]
  },
  {
   "cell_type": "code",
   "execution_count": 57,
   "metadata": {},
   "outputs": [
    {
     "data": {
      "text/plain": [
       "array(['2', '4', '3', '1', '5'], dtype=object)"
      ]
     },
     "execution_count": 57,
     "metadata": {},
     "output_type": "execute_result"
    }
   ],
   "source": [
    "results.happiness.unique()"
   ]
  },
  {
   "cell_type": "code",
   "execution_count": 58,
   "metadata": {
    "collapsed": true
   },
   "outputs": [],
   "source": [
    "di = {'1': 'sad', '2': 'sad', '3': 'neutral', '4':'happy', '5':'happy'}"
   ]
  },
  {
   "cell_type": "code",
   "execution_count": 59,
   "metadata": {},
   "outputs": [],
   "source": [
    "results = results.replace({\"happiness\": di})"
   ]
  },
  {
   "cell_type": "code",
   "execution_count": 60,
   "metadata": {},
   "outputs": [
    {
     "data": {
      "text/html": [
       "<div>\n",
       "<style>\n",
       "    .dataframe thead tr:only-child th {\n",
       "        text-align: right;\n",
       "    }\n",
       "\n",
       "    .dataframe thead th {\n",
       "        text-align: left;\n",
       "    }\n",
       "\n",
       "    .dataframe tbody tr th {\n",
       "        vertical-align: top;\n",
       "    }\n",
       "</style>\n",
       "<table border=\"1\" class=\"dataframe\">\n",
       "  <thead>\n",
       "    <tr style=\"text-align: right;\">\n",
       "      <th></th>\n",
       "      <th>file</th>\n",
       "      <th>happiness</th>\n",
       "    </tr>\n",
       "  </thead>\n",
       "  <tbody>\n",
       "    <tr>\n",
       "      <th>0</th>\n",
       "      <td>beethoven_hammerklavier_3.mp3</td>\n",
       "      <td>sad</td>\n",
       "    </tr>\n",
       "    <tr>\n",
       "      <th>1</th>\n",
       "      <td>islamei.mp3</td>\n",
       "      <td>happy</td>\n",
       "    </tr>\n",
       "    <tr>\n",
       "      <th>2</th>\n",
       "      <td>waldstein_3.mp3</td>\n",
       "      <td>happy</td>\n",
       "    </tr>\n",
       "    <tr>\n",
       "      <th>3</th>\n",
       "      <td>alb_se1.mp3</td>\n",
       "      <td>happy</td>\n",
       "    </tr>\n",
       "    <tr>\n",
       "      <th>4</th>\n",
       "      <td>beethoven_les_adieux_1.mp3</td>\n",
       "      <td>neutral</td>\n",
       "    </tr>\n",
       "  </tbody>\n",
       "</table>\n",
       "</div>"
      ],
      "text/plain": [
       "                            file happiness\n",
       "0  beethoven_hammerklavier_3.mp3       sad\n",
       "1                    islamei.mp3     happy\n",
       "2                waldstein_3.mp3     happy\n",
       "3                    alb_se1.mp3     happy\n",
       "4     beethoven_les_adieux_1.mp3   neutral"
      ]
     },
     "execution_count": 60,
     "metadata": {},
     "output_type": "execute_result"
    }
   ],
   "source": [
    "results.head()"
   ]
  },
  {
   "cell_type": "code",
   "execution_count": 61,
   "metadata": {
    "collapsed": true
   },
   "outputs": [],
   "source": [
    "musicdf = pd.read_csv('./musicdf30.csv', index_col=0, encoding='latin-1')"
   ]
  },
  {
   "cell_type": "code",
   "execution_count": 62,
   "metadata": {},
   "outputs": [
    {
     "data": {
      "text/html": [
       "<div>\n",
       "<style>\n",
       "    .dataframe thead tr:only-child th {\n",
       "        text-align: right;\n",
       "    }\n",
       "\n",
       "    .dataframe thead th {\n",
       "        text-align: left;\n",
       "    }\n",
       "\n",
       "    .dataframe tbody tr th {\n",
       "        vertical-align: top;\n",
       "    }\n",
       "</style>\n",
       "<table border=\"1\" class=\"dataframe\">\n",
       "  <thead>\n",
       "    <tr style=\"text-align: right;\">\n",
       "      <th></th>\n",
       "      <th>composer</th>\n",
       "      <th>description</th>\n",
       "      <th>symphony</th>\n",
       "      <th>file</th>\n",
       "      <th>part</th>\n",
       "      <th>tempo</th>\n",
       "      <th>bpm</th>\n",
       "      <th>duration</th>\n",
       "      <th>zero_crossings</th>\n",
       "      <th>spectral_centroid_avg</th>\n",
       "      <th>...</th>\n",
       "      <th>Chroma_SD_B</th>\n",
       "      <th>Chroma_SD_C</th>\n",
       "      <th>Chroma_SD_C#</th>\n",
       "      <th>Chroma_SD_D</th>\n",
       "      <th>Chroma_SD_D#</th>\n",
       "      <th>Chroma_SD_E</th>\n",
       "      <th>Chroma_SD_F</th>\n",
       "      <th>Chroma_SD_F#</th>\n",
       "      <th>Chroma_SD_G</th>\n",
       "      <th>Chroma_SD_G#</th>\n",
       "    </tr>\n",
       "  </thead>\n",
       "  <tbody>\n",
       "    <tr>\n",
       "      <th>0</th>\n",
       "      <td>albeniz</td>\n",
       "      <td>Albeniz  Isaac(1860-1909)</td>\n",
       "      <td>Espana Opus 165</td>\n",
       "      <td>alb_esp1.mp3</td>\n",
       "      <td>Prelude</td>\n",
       "      <td>Andantino</td>\n",
       "      <td>120.185320</td>\n",
       "      <td>93.570612</td>\n",
       "      <td>98094</td>\n",
       "      <td>621.574748</td>\n",
       "      <td>...</td>\n",
       "      <td>0.175779</td>\n",
       "      <td>0.193223</td>\n",
       "      <td>0.195864</td>\n",
       "      <td>0.210012</td>\n",
       "      <td>0.152202</td>\n",
       "      <td>0.207500</td>\n",
       "      <td>0.167383</td>\n",
       "      <td>0.110378</td>\n",
       "      <td>0.088626</td>\n",
       "      <td>0.167561</td>\n",
       "    </tr>\n",
       "    <tr>\n",
       "      <th>1</th>\n",
       "      <td>albeniz</td>\n",
       "      <td>Albeniz  Isaac(1860-1909)</td>\n",
       "      <td>Espana Opus 165</td>\n",
       "      <td>alb_esp2.mp3</td>\n",
       "      <td>Tango</td>\n",
       "      <td>Andantino</td>\n",
       "      <td>120.185320</td>\n",
       "      <td>128.705306</td>\n",
       "      <td>110224</td>\n",
       "      <td>542.039355</td>\n",
       "      <td>...</td>\n",
       "      <td>0.197480</td>\n",
       "      <td>0.148901</td>\n",
       "      <td>0.147744</td>\n",
       "      <td>0.189628</td>\n",
       "      <td>0.138035</td>\n",
       "      <td>0.170995</td>\n",
       "      <td>0.157763</td>\n",
       "      <td>0.167537</td>\n",
       "      <td>0.135463</td>\n",
       "      <td>0.170640</td>\n",
       "    </tr>\n",
       "    <tr>\n",
       "      <th>2</th>\n",
       "      <td>albeniz</td>\n",
       "      <td>Albeniz  Isaac(1860-1909)</td>\n",
       "      <td>Espana Opus 165</td>\n",
       "      <td>alb_esp3.mp3</td>\n",
       "      <td>Malaguena</td>\n",
       "      <td>Allegretto</td>\n",
       "      <td>117.453835</td>\n",
       "      <td>176.039184</td>\n",
       "      <td>214944</td>\n",
       "      <td>701.140112</td>\n",
       "      <td>...</td>\n",
       "      <td>0.169860</td>\n",
       "      <td>0.132680</td>\n",
       "      <td>0.120317</td>\n",
       "      <td>0.154430</td>\n",
       "      <td>0.158160</td>\n",
       "      <td>0.156281</td>\n",
       "      <td>0.122567</td>\n",
       "      <td>0.140689</td>\n",
       "      <td>0.124910</td>\n",
       "      <td>0.123183</td>\n",
       "    </tr>\n",
       "    <tr>\n",
       "      <th>3</th>\n",
       "      <td>albeniz</td>\n",
       "      <td>Albeniz  Isaac(1860-1909)</td>\n",
       "      <td>Espana Opus 165</td>\n",
       "      <td>alb_esp4.mp3</td>\n",
       "      <td>Serenata</td>\n",
       "      <td>Allegretto</td>\n",
       "      <td>112.347147</td>\n",
       "      <td>195.422041</td>\n",
       "      <td>203680</td>\n",
       "      <td>631.094119</td>\n",
       "      <td>...</td>\n",
       "      <td>0.166632</td>\n",
       "      <td>0.175509</td>\n",
       "      <td>0.142637</td>\n",
       "      <td>0.183892</td>\n",
       "      <td>0.158628</td>\n",
       "      <td>0.137726</td>\n",
       "      <td>0.137628</td>\n",
       "      <td>0.148855</td>\n",
       "      <td>0.166665</td>\n",
       "      <td>0.141932</td>\n",
       "    </tr>\n",
       "    <tr>\n",
       "      <th>4</th>\n",
       "      <td>albeniz</td>\n",
       "      <td>Albeniz  Isaac(1860-1909)</td>\n",
       "      <td>Espana Opus 165</td>\n",
       "      <td>alb_esp5.mp3</td>\n",
       "      <td>Capricho Catalan</td>\n",
       "      <td>Allegretto</td>\n",
       "      <td>120.185320</td>\n",
       "      <td>124.499592</td>\n",
       "      <td>118904</td>\n",
       "      <td>570.265597</td>\n",
       "      <td>...</td>\n",
       "      <td>0.119192</td>\n",
       "      <td>0.095741</td>\n",
       "      <td>0.103875</td>\n",
       "      <td>0.100934</td>\n",
       "      <td>0.081791</td>\n",
       "      <td>0.107883</td>\n",
       "      <td>0.133893</td>\n",
       "      <td>0.125197</td>\n",
       "      <td>0.166297</td>\n",
       "      <td>0.131250</td>\n",
       "    </tr>\n",
       "  </tbody>\n",
       "</table>\n",
       "<p>5 rows × 59 columns</p>\n",
       "</div>"
      ],
      "text/plain": [
       "  composer                description         symphony          file  \\\n",
       "0  albeniz  Albeniz  Isaac(1860-1909)  Espana Opus 165  alb_esp1.mp3   \n",
       "1  albeniz  Albeniz  Isaac(1860-1909)  Espana Opus 165  alb_esp2.mp3   \n",
       "2  albeniz  Albeniz  Isaac(1860-1909)  Espana Opus 165  alb_esp3.mp3   \n",
       "3  albeniz  Albeniz  Isaac(1860-1909)  Espana Opus 165  alb_esp4.mp3   \n",
       "4  albeniz  Albeniz  Isaac(1860-1909)  Espana Opus 165  alb_esp5.mp3   \n",
       "\n",
       "               part       tempo         bpm    duration  zero_crossings  \\\n",
       "0           Prelude   Andantino  120.185320   93.570612           98094   \n",
       "1             Tango   Andantino  120.185320  128.705306          110224   \n",
       "2         Malaguena  Allegretto  117.453835  176.039184          214944   \n",
       "3          Serenata  Allegretto  112.347147  195.422041          203680   \n",
       "4  Capricho Catalan  Allegretto  120.185320  124.499592          118904   \n",
       "\n",
       "   spectral_centroid_avg      ...       Chroma_SD_B  Chroma_SD_C  \\\n",
       "0             621.574748      ...          0.175779     0.193223   \n",
       "1             542.039355      ...          0.197480     0.148901   \n",
       "2             701.140112      ...          0.169860     0.132680   \n",
       "3             631.094119      ...          0.166632     0.175509   \n",
       "4             570.265597      ...          0.119192     0.095741   \n",
       "\n",
       "   Chroma_SD_C#  Chroma_SD_D  Chroma_SD_D#  Chroma_SD_E  Chroma_SD_F  \\\n",
       "0      0.195864     0.210012      0.152202     0.207500     0.167383   \n",
       "1      0.147744     0.189628      0.138035     0.170995     0.157763   \n",
       "2      0.120317     0.154430      0.158160     0.156281     0.122567   \n",
       "3      0.142637     0.183892      0.158628     0.137726     0.137628   \n",
       "4      0.103875     0.100934      0.081791     0.107883     0.133893   \n",
       "\n",
       "   Chroma_SD_F#  Chroma_SD_G  Chroma_SD_G#  \n",
       "0      0.110378     0.088626      0.167561  \n",
       "1      0.167537     0.135463      0.170640  \n",
       "2      0.140689     0.124910      0.123183  \n",
       "3      0.148855     0.166665      0.141932  \n",
       "4      0.125197     0.166297      0.131250  \n",
       "\n",
       "[5 rows x 59 columns]"
      ]
     },
     "execution_count": 62,
     "metadata": {},
     "output_type": "execute_result"
    }
   ],
   "source": [
    "musicdf.head()"
   ]
  },
  {
   "cell_type": "code",
   "execution_count": 63,
   "metadata": {},
   "outputs": [
    {
     "data": {
      "text/plain": [
       "(61, 2)"
      ]
     },
     "execution_count": 63,
     "metadata": {},
     "output_type": "execute_result"
    }
   ],
   "source": [
    "results.shape"
   ]
  },
  {
   "cell_type": "code",
   "execution_count": 64,
   "metadata": {},
   "outputs": [
    {
     "data": {
      "text/plain": [
       "(61, 59)"
      ]
     },
     "execution_count": 64,
     "metadata": {},
     "output_type": "execute_result"
    }
   ],
   "source": [
    "musicdf.shape"
   ]
  },
  {
   "cell_type": "code",
   "execution_count": 65,
   "metadata": {
    "collapsed": true
   },
   "outputs": [],
   "source": [
    "results = pd.merge(results, musicdf, on='file')"
   ]
  },
  {
   "cell_type": "code",
   "execution_count": 66,
   "metadata": {},
   "outputs": [
    {
     "data": {
      "text/plain": [
       "Index(['file', 'happiness', 'composer', 'description', 'symphony', 'part',\n",
       "       'tempo', 'bpm', 'duration', 'zero_crossings', 'spectral_centroid_avg',\n",
       "       'spectral_bw_avg', 'Chroma_A', 'Chroma_A#', 'Chroma_B', 'Chroma_C',\n",
       "       'Chroma_C#', 'Chroma_D', 'Chroma_D#', 'Chroma_E', 'Chroma_F',\n",
       "       'Chroma_F#', 'Chroma_G', 'Chroma_G#', 'MFCC_0', 'MFCC_1', 'MFCC_10',\n",
       "       'MFCC_11', 'MFCC_2', 'MFCC_3', 'MFCC_4', 'MFCC_5', 'MFCC_6', 'MFCC_7',\n",
       "       'MFCC_8', 'MFCC_9', 'MFCC_SD_0', 'MFCC_SD_1', 'MFCC_SD_10',\n",
       "       'MFCC_SD_11', 'MFCC_SD_2', 'MFCC_SD_3', 'MFCC_SD_4', 'MFCC_SD_5',\n",
       "       'MFCC_SD_6', 'MFCC_SD_7', 'MFCC_SD_8', 'MFCC_SD_9', 'Chroma_SD_A',\n",
       "       'Chroma_SD_A#', 'Chroma_SD_B', 'Chroma_SD_C', 'Chroma_SD_C#',\n",
       "       'Chroma_SD_D', 'Chroma_SD_D#', 'Chroma_SD_E', 'Chroma_SD_F',\n",
       "       'Chroma_SD_F#', 'Chroma_SD_G', 'Chroma_SD_G#'],\n",
       "      dtype='object')"
      ]
     },
     "execution_count": 66,
     "metadata": {},
     "output_type": "execute_result"
    }
   ],
   "source": [
    "results.columns"
   ]
  },
  {
   "cell_type": "code",
   "execution_count": 67,
   "metadata": {
    "collapsed": true
   },
   "outputs": [],
   "source": [
    "#mfcc_columns = (['MFCC_0', 'MFCC_1', 'MFCC_10',\n",
    "#       'MFCC_11', 'MFCC_2', 'MFCC_3', 'MFCC_4', 'MFCC_5', 'MFCC_6', 'MFCC_7',\n",
    "#       'MFCC_8', 'MFCC_9', 'MFCC_SD_0', 'MFCC_SD_1', 'MFCC_SD_10',\n",
    "#       'MFCC_SD_11', 'MFCC_SD_2', 'MFCC_SD_3', 'MFCC_SD_4', 'MFCC_SD_5',\n",
    "#       'MFCC_SD_6', 'MFCC_SD_7', 'MFCC_SD_8', 'MFCC_SD_9']);"
   ]
  },
  {
   "cell_type": "code",
   "execution_count": 68,
   "metadata": {},
   "outputs": [],
   "source": [
    "feature_cols = results.columns.drop(['composer', 'description', 'symphony', 'tempo', 'file', 'part', 'duration']);"
   ]
  },
  {
   "cell_type": "code",
   "execution_count": 69,
   "metadata": {
    "collapsed": true
   },
   "outputs": [],
   "source": [
    "df = results[feature_cols]"
   ]
  },
  {
   "cell_type": "code",
   "execution_count": 70,
   "metadata": {},
   "outputs": [
    {
     "data": {
      "text/plain": [
       "Index(['happiness', 'bpm', 'zero_crossings', 'spectral_centroid_avg',\n",
       "       'spectral_bw_avg', 'Chroma_A', 'Chroma_A#', 'Chroma_B', 'Chroma_C',\n",
       "       'Chroma_C#', 'Chroma_D', 'Chroma_D#', 'Chroma_E', 'Chroma_F',\n",
       "       'Chroma_F#', 'Chroma_G', 'Chroma_G#', 'MFCC_0', 'MFCC_1', 'MFCC_10',\n",
       "       'MFCC_11', 'MFCC_2', 'MFCC_3', 'MFCC_4', 'MFCC_5', 'MFCC_6', 'MFCC_7',\n",
       "       'MFCC_8', 'MFCC_9', 'MFCC_SD_0', 'MFCC_SD_1', 'MFCC_SD_10',\n",
       "       'MFCC_SD_11', 'MFCC_SD_2', 'MFCC_SD_3', 'MFCC_SD_4', 'MFCC_SD_5',\n",
       "       'MFCC_SD_6', 'MFCC_SD_7', 'MFCC_SD_8', 'MFCC_SD_9', 'Chroma_SD_A',\n",
       "       'Chroma_SD_A#', 'Chroma_SD_B', 'Chroma_SD_C', 'Chroma_SD_C#',\n",
       "       'Chroma_SD_D', 'Chroma_SD_D#', 'Chroma_SD_E', 'Chroma_SD_F',\n",
       "       'Chroma_SD_F#', 'Chroma_SD_G', 'Chroma_SD_G#'],\n",
       "      dtype='object')"
      ]
     },
     "execution_count": 70,
     "metadata": {},
     "output_type": "execute_result"
    }
   ],
   "source": [
    "df.columns"
   ]
  },
  {
   "cell_type": "code",
   "execution_count": 71,
   "metadata": {
    "collapsed": true
   },
   "outputs": [],
   "source": [
    "X, y = df.loc[:, df.columns != 'happiness'].values, df.loc[:, 'happiness'].values"
   ]
  },
  {
   "cell_type": "code",
   "execution_count": 72,
   "metadata": {},
   "outputs": [],
   "source": [
    "from sklearn.cross_validation import train_test_split\n",
    "X_train, X_test, y_train, y_test = train_test_split(X, y, test_size=0.25, random_state=0)"
   ]
  },
  {
   "cell_type": "code",
   "execution_count": 73,
   "metadata": {},
   "outputs": [
    {
     "data": {
      "text/plain": [
       "(45, 52)"
      ]
     },
     "execution_count": 73,
     "metadata": {},
     "output_type": "execute_result"
    }
   ],
   "source": [
    "X_train.shape"
   ]
  },
  {
   "cell_type": "code",
   "execution_count": 74,
   "metadata": {},
   "outputs": [
    {
     "data": {
      "text/plain": [
       "(16, 52)"
      ]
     },
     "execution_count": 74,
     "metadata": {},
     "output_type": "execute_result"
    }
   ],
   "source": [
    "X_test.shape"
   ]
  },
  {
   "cell_type": "code",
   "execution_count": 75,
   "metadata": {
    "collapsed": true
   },
   "outputs": [],
   "source": [
    "from sklearn.ensemble import RandomForestClassifier"
   ]
  },
  {
   "cell_type": "code",
   "execution_count": 76,
   "metadata": {
    "collapsed": true
   },
   "outputs": [],
   "source": [
    "forest = RandomForestClassifier(n_estimators=10000, random_state=0, n_jobs=-1)"
   ]
  },
  {
   "cell_type": "code",
   "execution_count": 77,
   "metadata": {},
   "outputs": [
    {
     "data": {
      "text/plain": [
       "RandomForestClassifier(bootstrap=True, class_weight=None, criterion='gini',\n",
       "            max_depth=None, max_features='auto', max_leaf_nodes=None,\n",
       "            min_impurity_split=1e-07, min_samples_leaf=1,\n",
       "            min_samples_split=2, min_weight_fraction_leaf=0.0,\n",
       "            n_estimators=10000, n_jobs=-1, oob_score=False, random_state=0,\n",
       "            verbose=0, warm_start=False)"
      ]
     },
     "execution_count": 77,
     "metadata": {},
     "output_type": "execute_result"
    }
   ],
   "source": [
    "forest.fit(X_train, y_train)"
   ]
  },
  {
   "cell_type": "code",
   "execution_count": 78,
   "metadata": {
    "collapsed": true
   },
   "outputs": [],
   "source": [
    "y_train_pred = forest.predict(X_train)"
   ]
  },
  {
   "cell_type": "code",
   "execution_count": 79,
   "metadata": {
    "collapsed": true
   },
   "outputs": [],
   "source": [
    "y_test_pred = forest.predict(X_test)"
   ]
  },
  {
   "cell_type": "code",
   "execution_count": 80,
   "metadata": {},
   "outputs": [
    {
     "data": {
      "text/html": [
       "<div>\n",
       "<style>\n",
       "    .dataframe thead tr:only-child th {\n",
       "        text-align: right;\n",
       "    }\n",
       "\n",
       "    .dataframe thead th {\n",
       "        text-align: left;\n",
       "    }\n",
       "\n",
       "    .dataframe tbody tr th {\n",
       "        vertical-align: top;\n",
       "    }\n",
       "</style>\n",
       "<table border=\"1\" class=\"dataframe\">\n",
       "  <thead>\n",
       "    <tr style=\"text-align: right;\">\n",
       "      <th>preds</th>\n",
       "      <th>neutral</th>\n",
       "      <th>sad</th>\n",
       "      <th>All</th>\n",
       "    </tr>\n",
       "    <tr>\n",
       "      <th>actual</th>\n",
       "      <th></th>\n",
       "      <th></th>\n",
       "      <th></th>\n",
       "    </tr>\n",
       "  </thead>\n",
       "  <tbody>\n",
       "    <tr>\n",
       "      <th>happy</th>\n",
       "      <td>4</td>\n",
       "      <td>3</td>\n",
       "      <td>7</td>\n",
       "    </tr>\n",
       "    <tr>\n",
       "      <th>neutral</th>\n",
       "      <td>1</td>\n",
       "      <td>3</td>\n",
       "      <td>4</td>\n",
       "    </tr>\n",
       "    <tr>\n",
       "      <th>sad</th>\n",
       "      <td>1</td>\n",
       "      <td>4</td>\n",
       "      <td>5</td>\n",
       "    </tr>\n",
       "    <tr>\n",
       "      <th>All</th>\n",
       "      <td>6</td>\n",
       "      <td>10</td>\n",
       "      <td>16</td>\n",
       "    </tr>\n",
       "  </tbody>\n",
       "</table>\n",
       "</div>"
      ],
      "text/plain": [
       "preds    neutral  sad  All\n",
       "actual                    \n",
       "happy          4    3    7\n",
       "neutral        1    3    4\n",
       "sad            1    4    5\n",
       "All            6   10   16"
      ]
     },
     "execution_count": 80,
     "metadata": {},
     "output_type": "execute_result"
    }
   ],
   "source": [
    "pd.crosstab(y_test, y_test_pred, rownames=['actual'], colnames=['preds'],margins=True)"
   ]
  },
  {
   "cell_type": "code",
   "execution_count": 82,
   "metadata": {},
   "outputs": [
    {
     "name": "stdout",
     "output_type": "stream",
     "text": [
      "Mean accuracy score: 0.312\n"
     ]
    }
   ],
   "source": [
    "from sklearn.metrics import accuracy_score\n",
    "accuracy = accuracy_score(y_test, y_test_pred)\n",
    "print(f'Mean accuracy score: {accuracy:.3}')"
   ]
  },
  {
   "cell_type": "code",
   "execution_count": 87,
   "metadata": {},
   "outputs": [
    {
     "data": {
      "text/plain": [
       "array(['happy', 'happy', 'sad', 'neutral', 'neutral', 'happy', 'happy',\n",
       "       'neutral', 'happy', 'sad', 'neutral', 'happy', 'sad', 'sad', 'sad',\n",
       "       'happy'], dtype=object)"
      ]
     },
     "execution_count": 87,
     "metadata": {},
     "output_type": "execute_result"
    }
   ],
   "source": [
    "y_test"
   ]
  },
  {
   "cell_type": "code",
   "execution_count": 89,
   "metadata": {},
   "outputs": [
    {
     "data": {
      "text/plain": [
       "<matplotlib.axes._subplots.AxesSubplot at 0x220724cb048>"
      ]
     },
     "execution_count": 89,
     "metadata": {},
     "output_type": "execute_result"
    },
    {
     "data": {
      "image/png": "[encoded data removed]",
      "text/plain": [
       "<matplotlib.figure.Figure at 0x220724dfba8>"
      ]
     },
     "metadata": {},
     "output_type": "display_data"
    }
   ],
   "source": [
    "from sklearn.metrics import confusion_matrix\n",
    "cm = pd.DataFrame(confusion_matrix(y_test, y_test_pred), columns=['happy','neutral','sad'], index=['happy','neutral','sad'])\n",
    "sns.heatmap(cm, annot=True)"
   ]
  },
  {
   "cell_type": "code",
   "execution_count": 90,
   "metadata": {
    "collapsed": true
   },
   "outputs": [],
   "source": [
    "importances = forest.feature_importances_\n",
    "std = np.std([tree.feature_importances_ for tree in forest.estimators_],\n",
    "             axis=0)\n",
    "indices = np.argsort(importances)[::-1]"
   ]
  },
  {
   "cell_type": "code",
   "execution_count": 91,
   "metadata": {
    "collapsed": true
   },
   "outputs": [],
   "source": [
    "total_features = X_test.shape[1]"
   ]
  },
  {
   "cell_type": "code",
   "execution_count": 92,
   "metadata": {},
   "outputs": [
    {
     "data": {
      "text/plain": [
       "52"
      ]
     },
     "execution_count": 92,
     "metadata": {},
     "output_type": "execute_result"
    }
   ],
   "source": [
    "forest.n_features_"
   ]
  },
  {
   "cell_type": "code",
   "execution_count": 93,
   "metadata": {
    "collapsed": true
   },
   "outputs": [],
   "source": [
    "column_names = df.loc[:, df.columns != 'happiness'].columns.tolist()"
   ]
  },
  {
   "cell_type": "code",
   "execution_count": 94,
   "metadata": {},
   "outputs": [
    {
     "name": "stdout",
     "output_type": "stream",
     "text": [
      "Feature ranking:\n",
      "1. feature spectral_centroid_avg (0.048722)\n",
      "2. feature MFCC_2 (0.042173)\n",
      "3. feature bpm (0.037655)\n",
      "4. feature Chroma_SD_C (0.035174)\n",
      "5. feature MFCC_0 (0.032522)\n",
      "6. feature MFCC_1 (0.030969)\n",
      "7. feature MFCC_4 (0.029513)\n",
      "8. feature MFCC_SD_3 (0.027937)\n",
      "9. feature MFCC_3 (0.027018)\n",
      "10. feature Chroma_C# (0.025312)\n",
      "11. feature Chroma_SD_C# (0.025057)\n",
      "12. feature Chroma_SD_D# (0.023877)\n",
      "13. feature MFCC_SD_6 (0.023525)\n",
      "14. feature Chroma_SD_E (0.022699)\n",
      "15. feature MFCC_5 (0.021270)\n",
      "16. feature Chroma_SD_G# (0.021170)\n",
      "17. feature MFCC_6 (0.019858)\n",
      "18. feature zero_crossings (0.019687)\n",
      "19. feature Chroma_SD_F# (0.018897)\n",
      "20. feature spectral_bw_avg (0.018896)\n",
      "21. feature Chroma_SD_A# (0.018816)\n",
      "22. feature MFCC_SD_4 (0.018719)\n",
      "23. feature MFCC_SD_7 (0.017353)\n",
      "24. feature MFCC_10 (0.017268)\n",
      "25. feature Chroma_G (0.017235)\n",
      "26. feature MFCC_SD_5 (0.016779)\n",
      "27. feature MFCC_11 (0.016752)\n",
      "28. feature MFCC_9 (0.016119)\n",
      "29. feature Chroma_SD_B (0.016101)\n",
      "30. feature MFCC_7 (0.016058)\n",
      "31. feature Chroma_SD_A (0.014894)\n",
      "32. feature Chroma_SD_G (0.014631)\n",
      "33. feature Chroma_F# (0.014582)\n",
      "34. feature MFCC_8 (0.014329)\n",
      "35. feature Chroma_D# (0.014063)\n",
      "36. feature MFCC_SD_2 (0.013949)\n",
      "37. feature Chroma_C (0.013634)\n",
      "38. feature Chroma_F (0.013175)\n",
      "39. feature MFCC_SD_9 (0.013161)\n",
      "40. feature Chroma_A (0.012737)\n",
      "41. feature Chroma_SD_D (0.012734)\n",
      "42. feature MFCC_SD_0 (0.012226)\n",
      "43. feature MFCC_SD_10 (0.012174)\n",
      "44. feature Chroma_B (0.012011)\n",
      "45. feature Chroma_SD_F (0.011932)\n",
      "46. feature Chroma_A# (0.011908)\n",
      "47. feature MFCC_SD_1 (0.011899)\n",
      "48. feature MFCC_SD_11 (0.011541)\n",
      "49. feature MFCC_SD_8 (0.011404)\n",
      "50. feature Chroma_D (0.011245)\n",
      "51. feature Chroma_G# (0.009661)\n",
      "52. feature Chroma_E (0.008979)\n"
     ]
    }
   ],
   "source": [
    "print(\"Feature ranking:\")\n",
    "\n",
    "for f in range(forest.n_features_):\n",
    "    print(\"%d. feature %s (%f)\" % (f + 1, column_names[indices[f]], importances[indices[f]]))\n"
   ]
  },
  {
   "cell_type": "code",
   "execution_count": 95,
   "metadata": {
    "collapsed": true
   },
   "outputs": [],
   "source": [
    "column_names = np.array(column_names)[indices].tolist()"
   ]
  },
  {
   "cell_type": "code",
   "execution_count": 96,
   "metadata": {},
   "outputs": [
    {
     "data": {
      "image/png": "[encoded data removed]",
      "text/plain": [
       "<matplotlib.figure.Figure at 0x22072ac3160>"
      ]
     },
     "metadata": {},
     "output_type": "display_data"
    }
   ],
   "source": [
    "plt.figure()\n",
    "plt.title(\"Feature importances\")\n",
    "plt.bar(range(forest.n_features_), importances[indices],\n",
    "       color=\"r\",  align=\"center\")\n",
    "plt.xticks(range(forest.n_features_), column_names, rotation='vertical')\n",
    "plt.xlim([-1, forest.n_features_])\n",
    "plt.show()"
   ]
  }
 ],
 "metadata": {
  "kernelspec": {
   "display_name": "Python 3",
   "language": "python",
   "name": "python3"
  },
  "language_info": {
   "codemirror_mode": {
    "name": "ipython",
    "version": 3
   },
   "file_extension": ".py",
   "mimetype": "text/x-python",
   "name": "python",
   "nbconvert_exporter": "python",
   "pygments_lexer": "ipython3",
   "version": "3.6.1"
  }
 },
 "nbformat": 4,
 "nbformat_minor": 2
}
